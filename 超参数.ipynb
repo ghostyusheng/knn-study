{
 "cells": [
  {
   "cell_type": "code",
   "execution_count": 52,
   "metadata": {},
   "outputs": [],
   "source": [
    "import numpy as np\n",
    "import matplotlib\n",
    "import matplotlib.pyplot as plt\n",
    "from sklearn import datasets\n",
    "from sklearn.model_selection import train_test_split\n",
    "from sklearn.neighbors import KNeighborsClassifier\n",
    "from PIL import Image"
   ]
  },
  {
   "cell_type": "code",
   "execution_count": 3,
   "metadata": {},
   "outputs": [],
   "source": [
    "digits = datasets.load_digits()"
   ]
  },
  {
   "cell_type": "code",
   "execution_count": 9,
   "metadata": {},
   "outputs": [],
   "source": [
    "X = digits.data\n",
    "y = digits.target"
   ]
  },
  {
   "cell_type": "code",
   "execution_count": 15,
   "metadata": {},
   "outputs": [],
   "source": [
    "# 超参数，在算法运行前需要决定的参数(knn中的K)\n",
    "# 模型参数，算法过程中学习的参数 (knn没有)"
   ]
  },
  {
   "cell_type": "code",
   "execution_count": 60,
   "metadata": {},
   "outputs": [],
   "source": [
    "X_train, X_test, y_train, y_test = train_test_split(X, y, test_size=0.2)"
   ]
  },
  {
   "cell_type": "code",
   "execution_count": 61,
   "metadata": {},
   "outputs": [
    {
     "data": {
      "text/plain": [
       "0.9805555555555555"
      ]
     },
     "execution_count": 61,
     "metadata": {},
     "output_type": "execute_result"
    }
   ],
   "source": [
    "#knn_clf = KNeighborsClassifier(n_neighbors=3)\n",
    "\n",
    "knn_clf.fit(X_train, y_train)\n",
    "knn_clf.score(X_test, y_test)"
   ]
  },
  {
   "cell_type": "code",
   "execution_count": 71,
   "metadata": {},
   "outputs": [
    {
     "name": "stdout",
     "output_type": "stream",
     "text": [
      "best_p =  -1\n",
      "best_k =  10\n",
      "best_score =  0.9888888888888889\n",
      "CPU times: user 11.4 s, sys: 88 ms, total: 11.5 s\n",
      "Wall time: 11.5 s\n"
     ]
    }
   ],
   "source": [
    "%%time\n",
    "# 寻找最好的 K\n",
    "# 循环k值，找模型最优的结果\n",
    "best_scoer = 0.0\n",
    "best_k = -1\n",
    "best_p = -1\n",
    "for k in range(1, 11):\n",
    "    for p in range(1, 6):\n",
    "        # 不考虑k个点距离的权重\n",
    "        #knn_clf = KNeighborsClassifier(n_neighbors=k)\n",
    "        # 考虑k个点距离的权重(此时引用了另一个超参数，距离)\n",
    "        knn_clf = KNeighborsClassifier(n_neighbors=3, weights='distance', p=p)\n",
    "        knn_clf.fit(X_train, y_train)\n",
    "        score = knn_clf.score(X_test, y_test)\n",
    "        if score > best_scoer:\n",
    "            best_k = k\n",
    "            best_score = score\n",
    "print(\"best_p = \", best_p)\n",
    "print(\"best_k = \", best_k)\n",
    "print(\"best_score = \", best_score)\n",
    "# 考虑，现在是找k个范围内得票最多的类型点（假设3个），但是可能存在a点比bc更近，那么a的权重应该更高。\n",
    "# 在通常下，往往采用 \"距离的倒数\" 作为权重,距离越近，倒数越大"
   ]
  },
  {
   "cell_type": "code",
   "execution_count": 57,
   "metadata": {},
   "outputs": [
    {
     "data": {
      "text/html": [
       "<img src=\"img/juli.png\", width=320, heigth=240>\n"
      ],
      "text/plain": [
       "<IPython.core.display.HTML object>"
      ]
     },
     "metadata": {},
     "output_type": "display_data"
    }
   ],
   "source": [
    "%%html\n",
    "<img src=\"img/juli.png\", width=320, heigth=240>"
   ]
  },
  {
   "cell_type": "code",
   "execution_count": 65,
   "metadata": {},
   "outputs": [
    {
     "data": {
      "text/html": [
       "<img src=\"img/manhadun.png\", width=320, heigth=240>\n",
       "# 距离的另一种比较方法，曼哈顿距离\n"
      ],
      "text/plain": [
       "<IPython.core.display.HTML object>"
      ]
     },
     "metadata": {},
     "output_type": "display_data"
    }
   ],
   "source": [
    "%%html\n",
    "<img src=\"img/manhadun.png\", width=320, heigth=240>\n",
    "# 距离的另一种比较方法，曼哈顿距离\n",
    "# a,b 在每一个维度的差值的绝对值的和"
   ]
  },
  {
   "cell_type": "code",
   "execution_count": 68,
   "metadata": {},
   "outputs": [
    {
     "data": {
      "text/html": [
       "<img src=\"img/mksj.png\", width=320, heigth=240>\n",
       "曼哈顿距离 - 欧拉距离 - 明科夫斯基距离\n",
       "# 当p=1，明科夫斯基距离 -> 曼哈顿距离\n",
       "# 当p=2，明科夫斯基距离 -> 欧拉距离\n"
      ],
      "text/plain": [
       "<IPython.core.display.HTML object>"
      ]
     },
     "metadata": {},
     "output_type": "display_data"
    }
   ],
   "source": [
    "%%html\n",
    "<img src=\"img/mksj.png\", width=320, heigth=240>\n",
    "曼哈顿距离 - 欧拉距离 - 明科夫斯基距离\n",
    "# 当p=1，明科夫斯基距离 -> 曼哈顿距离\n",
    "# 当p=2，明科夫斯基距离 -> 欧拉距离"
   ]
  },
  {
   "cell_type": "code",
   "execution_count": null,
   "metadata": {},
   "outputs": [],
   "source": []
  }
 ],
 "metadata": {
  "kernelspec": {
   "display_name": "Python 3",
   "language": "python",
   "name": "python3"
  },
  "language_info": {
   "codemirror_mode": {
    "name": "ipython",
    "version": 3
   },
   "file_extension": ".py",
   "mimetype": "text/x-python",
   "name": "python",
   "nbconvert_exporter": "python",
   "pygments_lexer": "ipython3",
   "version": "3.7.3"
  }
 },
 "nbformat": 4,
 "nbformat_minor": 2
}
