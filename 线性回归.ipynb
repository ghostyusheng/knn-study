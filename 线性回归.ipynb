{
 "cells": [
  {
   "cell_type": "markdown",
   "metadata": {},
   "source": [
    "#### 样本特征只有一个，适用简单线性回归"
   ]
  },
  {
   "cell_type": "code",
   "execution_count": 1,
   "metadata": {},
   "outputs": [],
   "source": [
    "# 线性数学公式: y = ax + b\n",
    "# 那么如果机器学习了一个公式\n",
    "# y1 = ax + b, y1 预测值，样本有个真实值 y2\n",
    "# 如果对a，b进行学习，让他自动学习成最好的值呢？\n",
    "# 评判预测方程的好坏就是比较，|y2 - y1|的距离，真实值和预测值越小越好，但是为了方便求导，\n",
    "# 也可以用 -> (y2 - y1) ** 2  来评估\n",
    "# 所以方程可以推导为: (y2 - y1) ** 2 -> (y2 - ax - b) ** 2, 目标对每一个样本这个值越小越好 \n",
    "# 推导为 寻找 sum_every_样本((y2 - ax - b) ** 2) 是最小的, a,b的值"
   ]
  },
  {
   "cell_type": "code",
   "execution_count": 2,
   "metadata": {},
   "outputs": [],
   "source": [
    "# 机器学习算法的基本思路\n",
    "# 找到 一个函数 是它尽可能的小 -> \"损失函数(loss function) / 效用函数(utility function)\"\n",
    "# 通过最优化损失函数，获得机器学习的模型"
   ]
  },
  {
   "cell_type": "code",
   "execution_count": 3,
   "metadata": {},
   "outputs": [],
   "source": [
    "# 其实也是典型的最小二乘法问题： 最小化误差的平方"
   ]
  },
  {
   "cell_type": "markdown",
   "metadata": {},
   "source": [
    "<img src=\"img/xianxing1.png\" width=300 />"
   ]
  },
  {
   "cell_type": "markdown",
   "metadata": {},
   "source": [
    "<img src=\"img/xianxing2.png\" width=300 />"
   ]
  }
 ],
 "metadata": {
  "kernelspec": {
   "display_name": "Python 3",
   "language": "python",
   "name": "python3"
  },
  "language_info": {
   "codemirror_mode": {
    "name": "ipython",
    "version": 3
   },
   "file_extension": ".py",
   "mimetype": "text/x-python",
   "name": "python",
   "nbconvert_exporter": "python",
   "pygments_lexer": "ipython3",
   "version": "3.7.3"
  }
 },
 "nbformat": 4,
 "nbformat_minor": 2
}
