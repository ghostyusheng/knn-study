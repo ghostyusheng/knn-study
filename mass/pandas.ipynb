{
 "cells": [
  {
   "cell_type": "code",
   "execution_count": 1,
   "metadata": {},
   "outputs": [],
   "source": [
    "import numpy as np\n",
    "import pandas as pd"
   ]
  },
  {
   "cell_type": "code",
   "execution_count": 51,
   "metadata": {},
   "outputs": [
    {
     "name": "stdout",
     "output_type": "stream",
     "text": [
      "<class 'pandas.core.series.Series'>\n",
      "Empty DataFrame\n",
      "Columns: [aa, bb, cc, dd, ee]\n",
      "Index: []\n"
     ]
    }
   ],
   "source": [
    "s = pd.Series([i * 2 for i in range(1, 11)])\n",
    "print(type(s))\n",
    "dates = pd.date_range(\"20170301\", periods=8)\n",
    "df = pd.DataFrame(np.random.randn(8, 5), index=dates, columns=['aa','bb','cc','dd', 'ee'])\n",
    "#print(df.head(3))\n",
    "#print(df.tail(3))\n",
    "#print(df.index)\n",
    "#print(df.values)\n",
    "#print(df.T)\n",
    "#print(df.describe())\n",
    "#print(df[\"20170301\": \"20170304\"])\n",
    "#print(df.loc[dates[0]].T, \"aa\")\n",
    "#print(df.iloc[0:3, 2:4])\n",
    "#print(df.iloc[1, 4])\n",
    "print(df[df[\"ee\"].isin([1,2])])"
   ]
  },
  {
   "cell_type": "code",
   "execution_count": null,
   "metadata": {},
   "outputs": [],
   "source": [
    "\n",
    "\n"
   ]
  }
 ],
 "metadata": {
  "kernelspec": {
   "display_name": "Python 3",
   "language": "python",
   "name": "python3"
  },
  "language_info": {
   "codemirror_mode": {
    "name": "ipython",
    "version": 3
   },
   "file_extension": ".py",
   "mimetype": "text/x-python",
   "name": "python",
   "nbconvert_exporter": "python",
   "pygments_lexer": "ipython3",
   "version": "3.7.3"
  }
 },
 "nbformat": 4,
 "nbformat_minor": 2
}
