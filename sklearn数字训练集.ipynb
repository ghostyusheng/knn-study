{
 "cells": [
  {
   "cell_type": "code",
   "execution_count": 4,
   "metadata": {},
   "outputs": [],
   "source": [
    "import numpy as np\n",
    "import matplotlib\n",
    "import matplotlib.pyplot as plt\n",
    "from sklearn import datasets"
   ]
  },
  {
   "cell_type": "code",
   "execution_count": 6,
   "metadata": {},
   "outputs": [],
   "source": [
    "digits = datasets.load_digits()"
   ]
  },
  {
   "cell_type": "code",
   "execution_count": 9,
   "metadata": {},
   "outputs": [
    {
     "data": {
      "text/plain": [
       "dict_keys(['data', 'target', 'target_names', 'images', 'DESCR'])"
      ]
     },
     "execution_count": 9,
     "metadata": {},
     "output_type": "execute_result"
    }
   ],
   "source": [
    "digits.keys()"
   ]
  },
  {
   "cell_type": "code",
   "execution_count": 29,
   "metadata": {},
   "outputs": [
    {
     "data": {
      "text/plain": [
       "(1797, 64)"
      ]
     },
     "execution_count": 29,
     "metadata": {},
     "output_type": "execute_result"
    }
   ],
   "source": [
    "#有1797个样例，每个样例有64维，也就是8x8的像素点组成的矩阵\n",
    "X = digits.data\n",
    "digits.data.shape"
   ]
  },
  {
   "cell_type": "code",
   "execution_count": 30,
   "metadata": {},
   "outputs": [
    {
     "name": "stdout",
     "output_type": "stream",
     "text": [
      "(1797,)\n",
      "[0 1 2 3 4 5 6 7 8 9]\n"
     ]
    }
   ],
   "source": [
    "# y是识别的结果:[0-9]的数字识别\n",
    "y = digits.target\n",
    "print(y.shape)\n",
    "print(digits.target_names)"
   ]
  },
  {
   "cell_type": "code",
   "execution_count": 31,
   "metadata": {},
   "outputs": [
    {
     "data": {
      "text/plain": [
       "array([0, 1, 2, 3, 4, 5, 6, 7, 8, 9, 0, 1, 2, 3, 4, 5, 6, 7, 8, 9, 0, 1,\n",
       "       2, 3, 4, 5, 6, 7, 8, 9, 0, 9, 5, 5, 6, 5, 0, 9, 8, 9, 8, 4, 1, 7,\n",
       "       7, 3, 5, 1, 0, 0, 2, 2, 7, 8, 2, 0, 1, 2, 6, 3, 3, 7, 3, 3, 4, 6,\n",
       "       6, 6, 4, 9, 1, 5, 0, 9, 5, 2, 8, 2, 0, 0, 1, 7, 6, 3, 2, 1, 7, 4,\n",
       "       6, 3, 1, 3, 9, 1, 7, 6, 8, 4, 3, 1])"
      ]
     },
     "execution_count": 31,
     "metadata": {},
     "output_type": "execute_result"
    }
   ],
   "source": [
    "y[:100]"
   ]
  },
  {
   "cell_type": "code",
   "execution_count": 35,
   "metadata": {},
   "outputs": [
    {
     "name": "stdout",
     "output_type": "stream",
     "text": [
      "[ 0.  0.  5. 15. 14.  3.  0.  0.  0.  0. 13. 15.  9. 15.  2.  0.  0.  4.\n",
      " 16. 12.  0. 10.  6.  0.  0.  8. 16.  9.  0.  8. 10.  0.  0.  7. 15.  5.\n",
      "  0. 12. 11.  0.  0.  7. 13.  0.  5. 16.  6.  0.  0.  0. 16. 12. 15. 13.\n",
      "  1.  0.  0.  0.  6. 16. 12.  2.  0.  0.]\n",
      "0\n"
     ]
    }
   ],
   "source": [
    "some_digit = X[666]\n",
    "print(X[666])\n",
    "print(y[666])"
   ]
  },
  {
   "cell_type": "code",
   "execution_count": 39,
   "metadata": {},
   "outputs": [
    {
     "data": {
      "text/plain": [
       "<matplotlib.image.AxesImage at 0x12eb3aac8>"
      ]
     },
     "execution_count": 39,
     "metadata": {},
     "output_type": "execute_result"
    },
    {
     "data": {
      "image/png": "[encoded data removed]",
      "text/plain": [
       "<Figure size 432x288 with 1 Axes>"
      ]
     },
     "metadata": {
      "needs_background": "light"
     },
     "output_type": "display_data"
    }
   ],
   "source": [
    "# 0绘制出来\n",
    "plt.imshow(some_digit.reshape(8, 8), cmap=matplotlib.cm.binary)"
   ]
  },
  {
   "cell_type": "code",
   "execution_count": 64,
   "metadata": {},
   "outputs": [],
   "source": [
    "%run knn/knn_classify.py"
   ]
  },
  {
   "cell_type": "code",
   "execution_count": 66,
   "metadata": {},
   "outputs": [],
   "source": [
    "X_train, X_test, y_train, y_test = train_test_split(X, y, test_ratio=0.2)"
   ]
  },
  {
   "cell_type": "code",
   "execution_count": 67,
   "metadata": {},
   "outputs": [
    {
     "name": "stdout",
     "output_type": "stream",
     "text": [
      "(359, 64)\n",
      "(359,)\n",
      "(1438, 64)\n",
      "(1438, 64)\n"
     ]
    }
   ],
   "source": [
    "print(test_X.shape)\n",
    "print(test_y.shape)\n",
    "print(train_X.shape)\n",
    "print(train_X.shape)"
   ]
  },
  {
   "cell_type": "code",
   "execution_count": 68,
   "metadata": {},
   "outputs": [],
   "source": [
    "my_knn_clf = KNNClassifier(k=3)\n",
    "my_knn_clf.fit(X_train, y_train)\n",
    "y_predict = my_knn_clf.predict(X_test)"
   ]
  },
  {
   "cell_type": "code",
   "execution_count": 69,
   "metadata": {},
   "outputs": [
    {
     "data": {
      "text/plain": [
       "array([3, 0, 9, 1, 8, 7, 2, 7, 4, 0, 4, 1, 8, 6, 5, 5, 6, 6, 9, 2, 4, 7,\n",
       "       8, 4, 9, 5, 5, 5, 7, 5, 6, 8, 7, 5, 3, 0, 9, 7, 6, 7, 9, 9, 3, 1,\n",
       "       1, 7, 6, 8, 7, 6, 3, 9, 6, 4, 4, 8, 5, 9, 8, 1, 6, 4, 5, 0, 3, 6,\n",
       "       0, 0, 3, 0, 4, 7, 4, 5, 0, 3, 2, 5, 8, 9, 2, 1, 7, 3, 9, 6, 8, 0,\n",
       "       2, 1, 4, 0, 0, 8, 4, 0, 9, 5, 8, 2, 8, 1, 6, 0, 8, 9, 4, 8, 1, 6,\n",
       "       1, 7, 4, 6, 8, 9, 9, 8, 2, 6, 2, 9, 5, 9, 5, 7, 5, 1, 4, 7, 0, 8,\n",
       "       8, 7, 0, 9, 9, 5, 3, 9, 3, 1, 5, 5, 4, 9, 4, 8, 9, 9, 5, 6, 4, 0,\n",
       "       8, 2, 1, 0, 5, 2, 5, 9, 1, 5, 9, 8, 3, 1, 8, 1, 9, 1, 8, 7, 1, 4,\n",
       "       1, 3, 4, 4, 5, 0, 3, 9, 3, 6, 9, 2, 5, 8, 4, 6, 0, 5, 1, 7, 9, 4,\n",
       "       1, 1, 8, 5, 8, 8, 7, 1, 3, 4, 2, 9, 4, 2, 3, 1, 9, 7, 7, 2, 2, 2,\n",
       "       6, 4, 4, 4, 6, 5, 5, 5, 2, 3, 7, 4, 3, 9, 4, 2, 6, 8, 2, 8, 9, 6,\n",
       "       4, 4, 6, 3, 7, 8, 3, 6, 2, 2, 3, 3, 0, 4, 7, 6, 4, 2, 9, 9, 5, 4,\n",
       "       2, 2, 7, 3, 5, 2, 7, 1, 8, 2, 3, 3, 0, 8, 6, 8, 7, 9, 9, 5, 0, 6,\n",
       "       5, 1, 2, 3, 1, 9, 5, 7, 9, 0, 2, 2, 1, 5, 6, 2, 3, 1, 5, 8, 8, 2,\n",
       "       1, 3, 5, 3, 9, 7, 1, 3, 5, 6, 2, 0, 1, 5, 8, 6, 7, 6, 3, 3, 2, 5,\n",
       "       5, 2, 5, 4, 5, 3, 2, 4, 1, 3, 7, 0, 7, 2, 7, 3, 7, 9, 1, 8, 0, 1,\n",
       "       9, 0, 3, 7, 5, 7, 6])"
      ]
     },
     "execution_count": 69,
     "metadata": {},
     "output_type": "execute_result"
    }
   ],
   "source": [
    "y_predict"
   ]
  },
  {
   "cell_type": "code",
   "execution_count": 70,
   "metadata": {},
   "outputs": [
    {
     "data": {
      "text/plain": [
       "array([3, 0, 9, 1, 6, 7, 2, 7, 4, 0, 4, 1, 8, 6, 5, 5, 6, 6, 9, 2, 4, 7,\n",
       "       8, 4, 9, 5, 5, 5, 7, 5, 6, 8, 7, 5, 3, 0, 9, 7, 6, 7, 9, 9, 3, 1,\n",
       "       1, 7, 6, 8, 7, 6, 3, 9, 6, 4, 4, 8, 5, 9, 8, 1, 6, 4, 5, 0, 3, 6,\n",
       "       0, 0, 3, 0, 4, 7, 4, 5, 0, 3, 2, 5, 8, 9, 2, 1, 7, 3, 9, 6, 8, 0,\n",
       "       2, 1, 4, 0, 0, 8, 4, 0, 9, 5, 8, 2, 8, 1, 6, 0, 8, 9, 4, 8, 1, 6,\n",
       "       1, 7, 4, 6, 8, 9, 9, 8, 2, 6, 2, 9, 5, 9, 5, 7, 5, 1, 4, 7, 0, 8,\n",
       "       8, 7, 0, 9, 9, 5, 3, 9, 3, 1, 5, 5, 4, 9, 4, 8, 9, 9, 5, 6, 4, 0,\n",
       "       8, 2, 1, 0, 5, 2, 5, 9, 1, 5, 9, 8, 3, 1, 8, 1, 9, 1, 8, 7, 1, 4,\n",
       "       1, 3, 4, 4, 5, 0, 3, 9, 3, 6, 9, 2, 5, 8, 4, 6, 0, 5, 1, 7, 9, 4,\n",
       "       1, 1, 8, 5, 8, 8, 7, 1, 3, 4, 2, 9, 4, 2, 3, 1, 9, 7, 7, 2, 2, 2,\n",
       "       6, 4, 4, 4, 6, 5, 5, 5, 2, 3, 7, 4, 3, 9, 4, 2, 6, 8, 2, 8, 9, 6,\n",
       "       4, 4, 6, 3, 7, 8, 9, 6, 2, 2, 3, 3, 0, 4, 7, 6, 4, 2, 9, 9, 5, 4,\n",
       "       2, 2, 7, 3, 5, 2, 7, 1, 8, 2, 3, 3, 0, 8, 6, 8, 7, 9, 9, 5, 0, 6,\n",
       "       5, 1, 2, 3, 1, 9, 5, 3, 9, 0, 2, 2, 1, 5, 6, 2, 3, 1, 5, 8, 8, 2,\n",
       "       1, 3, 5, 3, 9, 7, 1, 3, 5, 6, 2, 0, 1, 5, 9, 6, 7, 6, 3, 3, 2, 5,\n",
       "       5, 2, 5, 4, 5, 3, 2, 4, 1, 3, 7, 0, 7, 2, 7, 3, 7, 9, 1, 8, 0, 1,\n",
       "       9, 0, 3, 7, 5, 7, 6])"
      ]
     },
     "execution_count": 70,
     "metadata": {},
     "output_type": "execute_result"
    }
   ],
   "source": [
    "y_test"
   ]
  },
  {
   "cell_type": "code",
   "execution_count": 72,
   "metadata": {},
   "outputs": [
    {
     "data": {
      "text/plain": [
       "0.9888579387186629"
      ]
     },
     "execution_count": 72,
     "metadata": {},
     "output_type": "execute_result"
    }
   ],
   "source": [
    "#sum(y_predict == y_test) / len(y_test)\n",
    "#accuracy_score(y_test, y_predict)\n",
    "my_knn_clf.score(X_test, y_test)"
   ]
  },
  {
   "cell_type": "code",
   "execution_count": 88,
   "metadata": {},
   "outputs": [
    {
     "data": {
      "text/plain": [
       "0.9833333333333333"
      ]
     },
     "execution_count": 88,
     "metadata": {},
     "output_type": "execute_result"
    }
   ],
   "source": [
    "### scikit learn 中的 accuracy_score\n",
    "from sklearn.model_selection import train_test_split\n",
    "from sklearn.neighbors import KNeighborsClassifier\n",
    "from sklearn.metrics import accuracy_score\n",
    "X_train, X_test, y_train, y_test = train_test_split(X, y, test_size=0.2)\n",
    "knn_clf = KNeighborsClassifier(n_neighbors=3)\n",
    "knn_clf.fit(X_train, y_train)\n",
    "y_predict = knn_clf.predict(X_test)\n",
    "accuracy_score(y_test, y_predict)"
   ]
  },
  {
   "cell_type": "code",
   "execution_count": 89,
   "metadata": {},
   "outputs": [
    {
     "data": {
      "text/plain": [
       "0.9833333333333333"
      ]
     },
     "execution_count": 89,
     "metadata": {},
     "output_type": "execute_result"
    }
   ],
   "source": [
    "knn_clf.score(X_test, y_test)"
   ]
  },
  {
   "cell_type": "code",
   "execution_count": null,
   "metadata": {},
   "outputs": [],
   "source": []
  }
 ],
 "metadata": {
  "kernelspec": {
   "display_name": "Python 3",
   "language": "python",
   "name": "python3"
  },
  "language_info": {
   "codemirror_mode": {
    "name": "ipython",
    "version": 3
   },
   "file_extension": ".py",
   "mimetype": "text/x-python",
   "name": "python",
   "nbconvert_exporter": "python",
   "pygments_lexer": "ipython3",
   "version": "3.7.3"
  }
 },
 "nbformat": 4,
 "nbformat_minor": 2
}
