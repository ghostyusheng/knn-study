{
 "cells": [
  {
   "cell_type": "code",
   "execution_count": 72,
   "metadata": {},
   "outputs": [],
   "source": [
    "import matplotlib.pyplot as plt\n",
    "# 数据归一化(normalization)\n",
    "# 将所有的数据映射到同一尺度\n",
    "# 最值归一化，把所有数据映射到0-1之间\n",
    "# 理解：把最大最小值区间当做总长度，当前跟最小值的距离在总长度的比一定是小于1的\n",
    "# 适用于: 分布有明确的边界的情况, 受outlier影响较大（大家收入都在0-1万之间，有个人收入100万这种数据集）"
   ]
  },
  {
   "cell_type": "markdown",
   "metadata": {},
   "source": [
    "%%html\n",
    "<img src=\"img/normal.png\" width=\"200\">"
   ]
  },
  {
   "cell_type": "code",
   "execution_count": 11,
   "metadata": {},
   "outputs": [],
   "source": [
    "# (大家收入都在0-1万之间，有个人收入100万这种数据集） 怎么办？\n",
    "# 适用均值方法归一化(standardization)\n",
    "# 适用于： 数据分布没有明显的边界，有可能存在极端数值 (比较通用)\n",
    "# 理解： 把所有数据归一到均值为0方差为1的分布中\n",
    "# 理解： 用每一个特征值 - 特征值的均值 / 特征值的方差"
   ]
  },
  {
   "cell_type": "markdown",
   "metadata": {},
   "source": [
    "\\begin{matrix} X_{scale}=\\frac{X - X_{mean}}{S}\\end{matrix}"
   ]
  },
  {
   "cell_type": "code",
   "execution_count": 14,
   "metadata": {},
   "outputs": [
    {
     "data": {
      "text/plain": [
       "array([74, 50, 84, 97, 12, 91, 17, 32,  5, 29, 29, 20, 12, 88, 87, 35, 92,\n",
       "       79, 67, 50,  4, 10, 88, 72, 30, 27,  5, 94, 17, 65,  5, 15,  3, 57,\n",
       "        4, 80, 99, 56, 91, 49, 92, 38,  5, 89, 85, 12, 89, 60, 62, 45, 55,\n",
       "       57, 68, 67, 76, 69, 40, 27, 76, 16, 87, 76, 86, 75, 28, 97,  9, 99,\n",
       "       56, 80, 48, 70, 10, 96, 46, 21, 85, 54, 36, 69, 51, 18, 56, 17,  7,\n",
       "       79, 92, 13, 93, 34, 84, 29, 13, 96, 47, 75, 36,  8,  2, 83])"
      ]
     },
     "execution_count": 14,
     "metadata": {},
     "output_type": "execute_result"
    }
   ],
   "source": [
    "# 最值归一化\n",
    "import numpy as np\n",
    "x = np.random.randint(0, 100, size=100)\n",
    "x"
   ]
  },
  {
   "cell_type": "code",
   "execution_count": 15,
   "metadata": {},
   "outputs": [
    {
     "data": {
      "text/plain": [
       "array([0.74226804, 0.49484536, 0.84536082, 0.97938144, 0.10309278,\n",
       "       0.91752577, 0.15463918, 0.30927835, 0.03092784, 0.27835052,\n",
       "       0.27835052, 0.18556701, 0.10309278, 0.88659794, 0.87628866,\n",
       "       0.34020619, 0.92783505, 0.79381443, 0.67010309, 0.49484536,\n",
       "       0.02061856, 0.08247423, 0.88659794, 0.72164948, 0.28865979,\n",
       "       0.25773196, 0.03092784, 0.94845361, 0.15463918, 0.64948454,\n",
       "       0.03092784, 0.13402062, 0.01030928, 0.56701031, 0.02061856,\n",
       "       0.80412371, 1.        , 0.55670103, 0.91752577, 0.48453608,\n",
       "       0.92783505, 0.37113402, 0.03092784, 0.89690722, 0.8556701 ,\n",
       "       0.10309278, 0.89690722, 0.59793814, 0.6185567 , 0.44329897,\n",
       "       0.54639175, 0.56701031, 0.68041237, 0.67010309, 0.7628866 ,\n",
       "       0.69072165, 0.39175258, 0.25773196, 0.7628866 , 0.1443299 ,\n",
       "       0.87628866, 0.7628866 , 0.86597938, 0.75257732, 0.26804124,\n",
       "       0.97938144, 0.07216495, 1.        , 0.55670103, 0.80412371,\n",
       "       0.4742268 , 0.70103093, 0.08247423, 0.96907216, 0.45360825,\n",
       "       0.19587629, 0.8556701 , 0.53608247, 0.35051546, 0.69072165,\n",
       "       0.50515464, 0.16494845, 0.55670103, 0.15463918, 0.05154639,\n",
       "       0.79381443, 0.92783505, 0.11340206, 0.93814433, 0.32989691,\n",
       "       0.84536082, 0.27835052, 0.11340206, 0.96907216, 0.46391753,\n",
       "       0.75257732, 0.35051546, 0.06185567, 0.        , 0.83505155])"
      ]
     },
     "execution_count": 15,
     "metadata": {},
     "output_type": "execute_result"
    }
   ],
   "source": [
    "#(x - np.min(x)) / (np.max(x) - np.min(x))"
   ]
  },
  {
   "cell_type": "code",
   "execution_count": 22,
   "metadata": {},
   "outputs": [
    {
     "data": {
      "text/plain": [
       "array([[86, 63],\n",
       "       [85, 92],\n",
       "       [91, 13],\n",
       "       [93, 70],\n",
       "       [69, 27],\n",
       "       [10, 84],\n",
       "       [30, 73],\n",
       "       [97, 31],\n",
       "       [32, 97],\n",
       "       [56, 46]])"
      ]
     },
     "execution_count": 22,
     "metadata": {},
     "output_type": "execute_result"
    }
   ],
   "source": [
    "# 两个特征值\n",
    "X = np.random.randint(0, 100, (10, 2))\n",
    "X"
   ]
  },
  {
   "cell_type": "code",
   "execution_count": 33,
   "metadata": {},
   "outputs": [
    {
     "data": {
      "text/plain": [
       "array([0.87356322, 0.86206897, 0.93103448, 0.95402299, 0.67816092,\n",
       "       0.        , 0.22988506, 1.        , 0.25287356, 0.52873563])"
      ]
     },
     "execution_count": 33,
     "metadata": {},
     "output_type": "execute_result"
    }
   ],
   "source": [
    "# 尝试分别对两个特征值归一化\n",
    "(X[:,0] - np.min(X[:,0])) / (np.max(X[:,0]) - np.min(X[:,0]))\n",
    "(X[:,1] - np.min(X[:,1])) / (np.max(X[:,1]) - np.min(X[:,1]))"
   ]
  },
  {
   "cell_type": "code",
   "execution_count": 63,
   "metadata": {},
   "outputs": [],
   "source": [
    "# 尝试封装一下对多特征值归一化的方法\n",
    "#def my_normalize(X):\n",
    "#    V = np.array([[]])\n",
    "#    feature_size = X.shape[1]\n",
    "#    (X[:,0] - np.min(X[:,0])) / (np.max(X[:,0]) - np.min(X[:,0]))\n",
    "#    for i in range(feature_size):\n",
    "#        tmp_array_2 = ((X[:,i] - np.min(X[:,i])) / (np.max(X[:,i]) - np.min(X[:,i]))).reshape(1, -1)\n",
    "#        V = np.hstack((V, tmp_array_2))\n",
    "#    return V"
   ]
  },
  {
   "cell_type": "code",
   "execution_count": 76,
   "metadata": {},
   "outputs": [
    {
     "data": {
      "text/plain": [
       "<matplotlib.collections.PathCollection at 0x115564160>"
      ]
     },
     "execution_count": 76,
     "metadata": {},
     "output_type": "execute_result"
    },
    {
     "data": {
      "image/png": "[encoded data removed]",
      "text/plain": [
       "<Figure size 432x288 with 1 Axes>"
      ]
     },
     "metadata": {
      "needs_background": "light"
     },
     "output_type": "display_data"
    }
   ],
   "source": [
    "plt.scatter(X[:,0], X[:,1])"
   ]
  },
  {
   "cell_type": "code",
   "execution_count": 80,
   "metadata": {},
   "outputs": [
    {
     "name": "stdout",
     "output_type": "stream",
     "text": [
      "64.9\n",
      "29.598817543949288\n"
     ]
    }
   ],
   "source": [
    "# 查看第0列的均值，方差\n",
    "print(np.mean(X[:,0]))\n",
    "print(np.std(X[:,0]))"
   ]
  },
  {
   "cell_type": "code",
   "execution_count": 85,
   "metadata": {},
   "outputs": [
    {
     "data": {
      "text/plain": [
       "array([[58, 99],\n",
       "       [57, 82],\n",
       "       [92, 62],\n",
       "       [95, 94],\n",
       "       [87, 57],\n",
       "       [91, 49],\n",
       "       [49, 14],\n",
       "       [99, 80],\n",
       "       [78, 66],\n",
       "       [90, 47]])"
      ]
     },
     "execution_count": 85,
     "metadata": {},
     "output_type": "execute_result"
    }
   ],
   "source": [
    "# 均值方差归一化 standardization\n",
    "X2 = np.random.randint(0, 100, (10, 2))\n",
    "X2"
   ]
  },
  {
   "cell_type": "code",
   "execution_count": 91,
   "metadata": {},
   "outputs": [
    {
     "data": {
      "text/plain": [
       "array([ 0.1234903 ,  1.17678994, -1.69254356,  0.37773504, -1.18405408,\n",
       "        0.88622453,  0.48669708, -1.03877137,  1.35839333, -0.49396121])"
      ]
     },
     "execution_count": 91,
     "metadata": {},
     "output_type": "execute_result"
    }
   ],
   "source": [
    "(X[:,0] - np.mean(X[:,0])) / np.std(X[:,0])\n",
    "(X[:,1] - np.mean(X[:,1])) / np.std(X[:,1])"
   ]
  },
  {
   "cell_type": "code",
   "execution_count": null,
   "metadata": {},
   "outputs": [],
   "source": []
  }
 ],
 "metadata": {
  "kernelspec": {
   "display_name": "Python 3",
   "language": "python",
   "name": "python3"
  },
  "language_info": {
   "codemirror_mode": {
    "name": "ipython",
    "version": 3
   },
   "file_extension": ".py",
   "mimetype": "text/x-python",
   "name": "python",
   "nbconvert_exporter": "python",
   "pygments_lexer": "ipython3",
   "version": "3.7.3"
  }
 },
 "nbformat": 4,
 "nbformat_minor": 2
}
