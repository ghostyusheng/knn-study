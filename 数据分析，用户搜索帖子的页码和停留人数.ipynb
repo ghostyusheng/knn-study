{
 "cells": [
  {
   "cell_type": "code",
   "execution_count": 1,
   "metadata": {},
   "outputs": [],
   "source": [
    "# 数据来源：搜索日志\n",
    "# 维度：2 -> 页码 + 停留的人数"
   ]
  },
  {
   "cell_type": "code",
   "execution_count": 73,
   "metadata": {},
   "outputs": [],
   "source": [
    "import numpy as np\n",
    "import matplotlib.pyplot as plt"
   ]
  },
  {
   "cell_type": "code",
   "execution_count": 87,
   "metadata": {},
   "outputs": [
    {
     "name": "stdout",
     "output_type": "stream",
     "text": [
      "[0.9318781794642363, 0.06812182053576368]\n",
      "[0.9473595224320357, 0.05264047756796435]\n",
      "[0.9509587642286319, 0.0490412357713681]\n"
     ]
    },
    {
     "data": {
      "image/png": "[encoded data removed]",
      "text/plain": [
       "<Figure size 432x288 with 1 Axes>"
      ]
     },
     "metadata": {
      "needs_background": "light"
     },
     "output_type": "display_data"
    }
   ],
   "source": [
    "def draw(M, color='g'):\n",
    "    x = M[...,0]\n",
    "    y = M[...,1]\n",
    "    print([\"%d-%d\" % (i + 1, y[i]) for i in range(len(x) - 1)])\n",
    "    std = np.std(y)\n",
    "    mean = np.mean(y)\n",
    "    y = (y - mean) / std\n",
    "    plt.scatter(x, y, color=color, alpha=0.2)\n",
    "\n",
    "    \n",
    "M1 = np.array([\n",
    "    [0, 18782671],\n",
    "    [1, 657695],\n",
    "    [2, 300331],\n",
    "    [3, 167893],\n",
    "    [4, 91032],\n",
    "    [5, 56515],\n",
    "    [6, 41331],\n",
    "    [7, 25456],\n",
    "    [8, 18160],\n",
    "    [9, 14631],\n",
    "])\n",
    "M2 = np.array([\n",
    "    [0, 37390361],\n",
    "    [1, 1020428],\n",
    "    [2, 452688],\n",
    "    [3, 243812],\n",
    "    [4, 134191],\n",
    "    [5, 83156],\n",
    "    [6, 57874],\n",
    "    [7, 37734],\n",
    "    [8, 26809],\n",
    "    [9, 20921],\n",
    "])\n",
    "M3 = np.array([\n",
    "    [0, 28124653],\n",
    "    [1, 712759],\n",
    "    [2, 315862],\n",
    "    [3, 169988],\n",
    "    [4, 93727],\n",
    "    [5, 58258],\n",
    "    [6, 40059],\n",
    "    [7, 26388],\n",
    "    [8, 18786],\n",
    "    [9, 14570],\n",
    "])\n",
    "#draw(M1, 'g')\n",
    "#draw(M2, 'y')\n",
    "#draw(M3, 'b')\n",
    "\n",
    "def bar(M):\n",
    "    x = M[...,0]\n",
    "    y = M[...,1]\n",
    "    A = y[0]\n",
    "    B = sum(y[1:])\n",
    "    rate_A = A / (A + B)\n",
    "    rate_B = B / (A + B)\n",
    "    data = [rate_A, rate_B]\n",
    "    print(data)\n",
    "    plt.bar(range(len(data)), data)\n",
    "bar(M1)\n",
    "bar(M2)\n",
    "bar(M3)"
   ]
  },
  {
   "cell_type": "code",
   "execution_count": null,
   "metadata": {},
   "outputs": [],
   "source": [
    "A1 = np.array([\n",
    "    [0, 25588553],\n",
    "    [1, 7182425],\n",
    "    [2, 3039989],\n",
    "    [3, 1672567],\n",
    "    [4, 1045640],\n",
    "    [5, 710050],\n",
    "    [6, 509636],\n",
    "    [7, 369725],\n",
    "    [8, 284321],\n",
    "    [9, 223304],\n",
    "])\n",
    "A2 = np.array([\n",
    "    [0, 35715645],\n",
    "    [1, 10106767],\n",
    "    [2, 4304522],\n",
    "    [3, 2381518],\n",
    "    [4, 1502138],\n",
    "    [5, 1022527],\n",
    "    [6, 732597],\n",
    "    [7, 532760],\n",
    "    [8, 409058],\n",
    "    [9, 319915],\n",
    "])\n",
    "A3 = np.array([\n",
    "    [0, 18387074],\n",
    "    [1, 5057106],\n",
    "    [2, 2120351],\n",
    "    [3, 1169089],\n",
    "    [4, 738864],\n",
    "    [5, 505190],\n",
    "    [6, 364073],\n",
    "    [7, 266641],\n",
    "    [8, 205916],\n",
    "    [9, 205916],\n",
    "])\n",
    "draw(A1, 'g')\n",
    "draw(A2, 'r')\n",
    "draw(A3, 'y')\n",
    "\n",
    "#bar(A1)\n",
    "#bar(A2)\n",
    "#bar(A3)"
   ]
  }
 ],
 "metadata": {
  "kernelspec": {
   "display_name": "Python 3",
   "language": "python",
   "name": "python3"
  },
  "language_info": {
   "codemirror_mode": {
    "name": "ipython",
    "version": 3
   },
   "file_extension": ".py",
   "mimetype": "text/x-python",
   "name": "python",
   "nbconvert_exporter": "python",
   "pygments_lexer": "ipython3",
   "version": "3.7.3"
  }
 },
 "nbformat": 4,
 "nbformat_minor": 2
}
